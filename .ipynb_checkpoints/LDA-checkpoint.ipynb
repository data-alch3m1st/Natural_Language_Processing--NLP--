{
 "cells": [
  {
   "cell_type": "code",
   "execution_count": 1,
   "id": "0e511773",
   "metadata": {},
   "outputs": [],
   "source": [
    "# Imports\n",
    "\n",
    "import pandas as pd    \n",
    "import numpy as np\n",
    "import seaborn as sns\n",
    "import matplotlib.pyplot as plt\n",
    "\n",
    "from sklearn.feature_extraction.text import CountVectorizer  #\n",
    "from sklearn.decomposition import LatentDirichletAllocation  \n",
    "               \n",
    "\n",
    "import warnings\n",
    "warnings.simplefilter('ignore')\n",
    "\n",
    "from IPython.core.interactiveshell import InteractiveShell\n",
    "InteractiveShell.ast_node_interactivity = 'all'"
   ]
  },
  {
   "cell_type": "code",
   "execution_count": 3,
   "id": "8b68a7b1",
   "metadata": {},
   "outputs": [
    {
     "data": {
      "text/plain": [
       "(11992, 1)"
      ]
     },
     "execution_count": 3,
     "metadata": {},
     "output_type": "execute_result"
    },
    {
     "data": {
      "text/html": [
       "<div>\n",
       "<style scoped>\n",
       "    .dataframe tbody tr th:only-of-type {\n",
       "        vertical-align: middle;\n",
       "    }\n",
       "\n",
       "    .dataframe tbody tr th {\n",
       "        vertical-align: top;\n",
       "    }\n",
       "\n",
       "    .dataframe thead th {\n",
       "        text-align: right;\n",
       "    }\n",
       "</style>\n",
       "<table border=\"1\" class=\"dataframe\">\n",
       "  <thead>\n",
       "    <tr style=\"text-align: right;\">\n",
       "      <th></th>\n",
       "      <th>Article</th>\n",
       "    </tr>\n",
       "  </thead>\n",
       "  <tbody>\n",
       "    <tr>\n",
       "      <th>0</th>\n",
       "      <td>In the Washington of 2016, even when the polic...</td>\n",
       "    </tr>\n",
       "    <tr>\n",
       "      <th>1</th>\n",
       "      <td>Donald Trump has used Twitter  —   his prefe...</td>\n",
       "    </tr>\n",
       "    <tr>\n",
       "      <th>2</th>\n",
       "      <td>Donald Trump is unabashedly praising Russian...</td>\n",
       "    </tr>\n",
       "    <tr>\n",
       "      <th>3</th>\n",
       "      <td>Updated at 2:50 p. m. ET, Russian President Vl...</td>\n",
       "    </tr>\n",
       "    <tr>\n",
       "      <th>4</th>\n",
       "      <td>From photography, illustration and video, to d...</td>\n",
       "    </tr>\n",
       "  </tbody>\n",
       "</table>\n",
       "</div>"
      ],
      "text/plain": [
       "                                             Article\n",
       "0  In the Washington of 2016, even when the polic...\n",
       "1    Donald Trump has used Twitter  —   his prefe...\n",
       "2    Donald Trump is unabashedly praising Russian...\n",
       "3  Updated at 2:50 p. m. ET, Russian President Vl...\n",
       "4  From photography, illustration and video, to d..."
      ]
     },
     "execution_count": 3,
     "metadata": {},
     "output_type": "execute_result"
    },
    {
     "name": "stdout",
     "output_type": "stream",
     "text": [
      "<class 'pandas.core.frame.DataFrame'>\n",
      "RangeIndex: 11992 entries, 0 to 11991\n",
      "Data columns (total 1 columns):\n",
      " #   Column   Non-Null Count  Dtype \n",
      "---  ------   --------------  ----- \n",
      " 0   Article  11992 non-null  object\n",
      "dtypes: object(1)\n",
      "memory usage: 93.8+ KB\n"
     ]
    }
   ],
   "source": [
    "# Read the CSV (NPR Corpus)\n",
    "\n",
    "df = pd.read_csv('../data/npr.csv')\n",
    "\n",
    "# Display the first few rows to understand the structure\n",
    "df.shape\n",
    "df.head()\n",
    "df.info()"
   ]
  },
  {
   "cell_type": "code",
   "execution_count": 4,
   "id": "cd43a618",
   "metadata": {},
   "outputs": [],
   "source": [
    "# Initialize a CountVectorizer to convert text to a matrix of token counts\n",
    "vectorizer = CountVectorizer(\n",
    "    max_df=0.95         # ignore terms appearing in >95% of documents\n",
    "    , min_df=2          # ignore terms appearing in <2 documents\n",
    "    , stop_words='english'  # remove common English stopwords\n",
    ")\n",
    "\n",
    "# Fit the vectorizer and transform the text data into a document-term matrix\n",
    "dtm = vectorizer.fit_transform(df['Article'])"
   ]
  },
  {
   "cell_type": "code",
   "execution_count": null,
   "id": "b8d270a9",
   "metadata": {},
   "outputs": [],
   "source": [
    "# Initialize the LDA model with your chosen number of topics (n_components)\n",
    "lda = LatentDirichletAllocation(\n",
    "    n_components=7          # Number of topics/clusters\n",
    "    , random_state=42       # Ensures reproducibility\n",
    "    , learning_method='batch'   # 'batch' or 'online'\n",
    ")\n",
    "\n",
    "# Fit the LDA model to the document-term matrix\n",
    "lda.fit(dtm)"
   ]
  },
  {
   "cell_type": "code",
   "execution_count": 5,
   "id": "37e17b6f",
   "metadata": {},
   "outputs": [
    {
     "name": "stdout",
     "output_type": "stream",
     "text": [
      "Topic #1:\n",
      "   says said health people care million company government percent new\n",
      "\n",
      "Topic #2:\n",
      "   said trump president police told people news says reports npr\n",
      "\n",
      "Topic #3:\n",
      "   says like people just food years new city water time\n",
      "\n",
      "Topic #4:\n",
      "   says people health women like study children just patients disease\n",
      "\n",
      "Topic #5:\n",
      "   trump said clinton president state people campaign republican court obama\n",
      "\n",
      "Topic #6:\n",
      "   like just people think know time really music way new\n",
      "\n",
      "Topic #7:\n",
      "   says school students like new education just schools time people\n",
      "\n"
     ]
    }
   ],
   "source": [
    "# Get feature (word) names from the vectorizer\n",
    "feature_names = vectorizer.get_feature_names_out()\n",
    "\n",
    "# Function to display top words for each topic\n",
    "def print_top_words(model, feature_names, n_top_words=10):\n",
    "    for topic_idx, topic in enumerate(model.components_):\n",
    "        print(f\"Topic #{topic_idx + 1}:\")\n",
    "        # Get indices of the n_top_words with highest weights in this topic\n",
    "        top_indices = topic.argsort()[::-1][:n_top_words]\n",
    "        # Map indices to words\n",
    "        top_words = [feature_names[i] for i in top_indices]\n",
    "        print(\"  \", \" \".join(top_words))\n",
    "        print()\n",
    "\n",
    "# Print the top 10 words for each topic\n",
    "print_top_words(\n",
    "    lda, feature_names, n_top_words=10\n",
    ")"
   ]
  },
  {
   "cell_type": "code",
   "execution_count": 6,
   "id": "aceaf9d4",
   "metadata": {},
   "outputs": [
    {
     "data": {
      "text/html": [
       "<div>\n",
       "<style scoped>\n",
       "    .dataframe tbody tr th:only-of-type {\n",
       "        vertical-align: middle;\n",
       "    }\n",
       "\n",
       "    .dataframe tbody tr th {\n",
       "        vertical-align: top;\n",
       "    }\n",
       "\n",
       "    .dataframe thead th {\n",
       "        text-align: right;\n",
       "    }\n",
       "</style>\n",
       "<table border=\"1\" class=\"dataframe\">\n",
       "  <thead>\n",
       "    <tr style=\"text-align: right;\">\n",
       "      <th></th>\n",
       "      <th>Article</th>\n",
       "      <th>Topic</th>\n",
       "    </tr>\n",
       "  </thead>\n",
       "  <tbody>\n",
       "    <tr>\n",
       "      <th>0</th>\n",
       "      <td>In the Washington of 2016, even when the polic...</td>\n",
       "      <td>1</td>\n",
       "    </tr>\n",
       "    <tr>\n",
       "      <th>1</th>\n",
       "      <td>Donald Trump has used Twitter  —   his prefe...</td>\n",
       "      <td>1</td>\n",
       "    </tr>\n",
       "    <tr>\n",
       "      <th>2</th>\n",
       "      <td>Donald Trump is unabashedly praising Russian...</td>\n",
       "      <td>1</td>\n",
       "    </tr>\n",
       "    <tr>\n",
       "      <th>3</th>\n",
       "      <td>Updated at 2:50 p. m. ET, Russian President Vl...</td>\n",
       "      <td>1</td>\n",
       "    </tr>\n",
       "    <tr>\n",
       "      <th>4</th>\n",
       "      <td>From photography, illustration and video, to d...</td>\n",
       "      <td>2</td>\n",
       "    </tr>\n",
       "  </tbody>\n",
       "</table>\n",
       "</div>"
      ],
      "text/plain": [
       "                                             Article  Topic\n",
       "0  In the Washington of 2016, even when the polic...      1\n",
       "1    Donald Trump has used Twitter  —   his prefe...      1\n",
       "2    Donald Trump is unabashedly praising Russian...      1\n",
       "3  Updated at 2:50 p. m. ET, Russian President Vl...      1\n",
       "4  From photography, illustration and video, to d...      2"
      ]
     },
     "execution_count": 6,
     "metadata": {},
     "output_type": "execute_result"
    }
   ],
   "source": [
    "# Transform the document-term matrix to get topic probabilities for each document\n",
    "topic_distributions = lda.transform(dtm)\n",
    "\n",
    "# Assign the topic with the highest probability to each article\n",
    "df['Topic'] = np.argmax(topic_distributions, axis=1)\n",
    "\n",
    "# Show the DataFrame with assigned topics\n",
    "df[['Article', 'Topic']].head()"
   ]
  },
  {
   "cell_type": "code",
   "execution_count": 7,
   "id": "4e433076",
   "metadata": {},
   "outputs": [
    {
     "data": {
      "text/plain": [
       "5537.59372192337"
      ]
     },
     "execution_count": 7,
     "metadata": {},
     "output_type": "execute_result"
    }
   ],
   "source": [
    "lda.perplexity(dtm)"
   ]
  },
  {
   "cell_type": "code",
   "execution_count": null,
   "id": "266cbacc",
   "metadata": {},
   "outputs": [],
   "source": []
  },
  {
   "cell_type": "code",
   "execution_count": null,
   "id": "13c7960e",
   "metadata": {},
   "outputs": [],
   "source": []
  }
 ],
 "metadata": {
  "kernelspec": {
   "display_name": "Python 3 (ipykernel)",
   "language": "python",
   "name": "python3"
  },
  "language_info": {
   "codemirror_mode": {
    "name": "ipython",
    "version": 3
   },
   "file_extension": ".py",
   "mimetype": "text/x-python",
   "name": "python",
   "nbconvert_exporter": "python",
   "pygments_lexer": "ipython3",
   "version": "3.11.5"
  }
 },
 "nbformat": 4,
 "nbformat_minor": 5
}
