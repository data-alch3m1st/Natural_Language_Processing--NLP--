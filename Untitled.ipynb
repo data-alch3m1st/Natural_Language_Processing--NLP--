{
 "cells": [
  {
   "cell_type": "code",
   "execution_count": 1,
   "id": "2d28a5c6",
   "metadata": {},
   "outputs": [],
   "source": [
    "# Imports\n",
    "import pandas as pd    \n",
    "import numpy as np\n",
    "import seaborn as sns\n",
    "import matplotlib.pyplot as plt\n",
    "\n",
    "from sklearn.feature_extraction.text import TfidfVectorizer\n",
    "from sklearn.decomposition import NMF\n",
    "\n",
    "import warnings\n",
    "warnings.simplefilter('ignore')\n",
    "\n",
    "from IPython.core.interactiveshell import InteractiveShell\n",
    "InteractiveShell.ast_node_interactivity = 'all'"
   ]
  },
  {
   "cell_type": "code",
   "execution_count": 2,
   "id": "bb6be7f4",
   "metadata": {},
   "outputs": [
    {
     "data": {
      "text/plain": [
       "(11992, 1)"
      ]
     },
     "execution_count": 2,
     "metadata": {},
     "output_type": "execute_result"
    },
    {
     "data": {
      "text/html": [
       "<div>\n",
       "<style scoped>\n",
       "    .dataframe tbody tr th:only-of-type {\n",
       "        vertical-align: middle;\n",
       "    }\n",
       "\n",
       "    .dataframe tbody tr th {\n",
       "        vertical-align: top;\n",
       "    }\n",
       "\n",
       "    .dataframe thead th {\n",
       "        text-align: right;\n",
       "    }\n",
       "</style>\n",
       "<table border=\"1\" class=\"dataframe\">\n",
       "  <thead>\n",
       "    <tr style=\"text-align: right;\">\n",
       "      <th></th>\n",
       "      <th>Article</th>\n",
       "    </tr>\n",
       "  </thead>\n",
       "  <tbody>\n",
       "    <tr>\n",
       "      <th>0</th>\n",
       "      <td>In the Washington of 2016, even when the polic...</td>\n",
       "    </tr>\n",
       "    <tr>\n",
       "      <th>1</th>\n",
       "      <td>Donald Trump has used Twitter  —   his prefe...</td>\n",
       "    </tr>\n",
       "    <tr>\n",
       "      <th>2</th>\n",
       "      <td>Donald Trump is unabashedly praising Russian...</td>\n",
       "    </tr>\n",
       "    <tr>\n",
       "      <th>3</th>\n",
       "      <td>Updated at 2:50 p. m. ET, Russian President Vl...</td>\n",
       "    </tr>\n",
       "    <tr>\n",
       "      <th>4</th>\n",
       "      <td>From photography, illustration and video, to d...</td>\n",
       "    </tr>\n",
       "  </tbody>\n",
       "</table>\n",
       "</div>"
      ],
      "text/plain": [
       "                                             Article\n",
       "0  In the Washington of 2016, even when the polic...\n",
       "1    Donald Trump has used Twitter  —   his prefe...\n",
       "2    Donald Trump is unabashedly praising Russian...\n",
       "3  Updated at 2:50 p. m. ET, Russian President Vl...\n",
       "4  From photography, illustration and video, to d..."
      ]
     },
     "execution_count": 2,
     "metadata": {},
     "output_type": "execute_result"
    },
    {
     "name": "stdout",
     "output_type": "stream",
     "text": [
      "<class 'pandas.core.frame.DataFrame'>\n",
      "RangeIndex: 11992 entries, 0 to 11991\n",
      "Data columns (total 1 columns):\n",
      " #   Column   Non-Null Count  Dtype \n",
      "---  ------   --------------  ----- \n",
      " 0   Article  11992 non-null  object\n",
      "dtypes: object(1)\n",
      "memory usage: 93.8+ KB\n"
     ]
    }
   ],
   "source": [
    "# Read the CSV (NPR Corpus)\n",
    "\n",
    "df = pd.read_csv('../data/npr.csv')\n",
    "\n",
    "# Display the first few rows to understand the structure\n",
    "df.shape\n",
    "df.head()\n",
    "df.info()"
   ]
  },
  {
   "cell_type": "code",
   "execution_count": null,
   "id": "d8387124",
   "metadata": {},
   "outputs": [],
   "source": [
    "# Instantiate a TfidfVectorizer w/ params (stopwords='english')\n",
    "vectorizer = TfidfVectorizer(\n",
    "    max_df=0.95           # Ignore terms that appear in >95% of documents\n",
    "    , min_df=2            # Ignore terms that appear in fewer than 2 documents\n",
    "    , stop_words='english' # Remove common English stopwords\n",
    ")\n",
    "\n",
    "# Fit and transform the text data into a TF-IDF matrix\n",
    "# Assuming the column with text is called 'text'\n",
    "tfidf = vectorizer.fit_transform(df['text'])\n",
    "\n"
   ]
  },
  {
   "cell_type": "code",
   "execution_count": null,
   "id": "36038116",
   "metadata": {},
   "outputs": [],
   "source": [
    "# Print the shape of the resulting TF-IDF matrix\n",
    "print('TF-IDF matrix shape:', tfidf.shape)"
   ]
  },
  {
   "cell_type": "code",
   "execution_count": null,
   "id": "0d72b248",
   "metadata": {},
   "outputs": [],
   "source": [
    "# Set the number of topics (components) for NMF\n",
    "# 7 is a common starting point; you can experiment with this\n",
    "num_topics = 7\n",
    "\n",
    "# Instantiate and fit the NMF model\n",
    "nmf_model = NMF(\n",
    "    n_components=num_topics\n",
    "    , random_state=42     # Ensures reproducibility\n",
    "    , max_iter=200        # Increase if convergence warnings\n",
    ")\n",
    "\n",
    "# Fit the model to the TF-IDF matrix\n",
    "nmf_model.fit(tfidf)\n",
    "\n",
    "# Get the feature names (words) from the vectorizer\n",
    "# Use .get_feature_names_out() for compatibility with scikit-learn >= 1.0\n",
    "feature_names = vectorizer.get_feature_names_out()\n",
    "\n",
    "# Function to display the top words for each topic\n",
    "def display_topics(model, feature_names, no_top_words):\n",
    "    # Loop over each topic in the model\n",
    "    for topic_idx, topic in enumerate(model.components_):\n",
    "        print(f\"Topic {topic_idx + 1}:\")\n",
    "        # Get the indices of the most significant words for this topic\n",
    "        top_indices = topic.argsort()[::-1][:no_top_words]\n",
    "        # Print the top words for this topic\n",
    "        print(\"  \", \" | \".join([feature_names[i] for i in top_indices]))\n",
    "        print()\n",
    "\n",
    "# Show the top 10 words for each topic\n",
    "display_topics(nmf_model, feature_names, no_top_words=10)\n",
    "\n",
    "# If you want to get the topic distribution for a document\n",
    "# Transform the TF-IDF representation of the document\n",
    "# For the first document in the DataFrame:\n",
    "doc_topic_dist = nmf_model.transform(tfidf[0])\n",
    "print(\"Topic distribution for first document:\", doc_topic_dist)\n",
    "\n",
    "# To assign the most probable topic to each document:\n",
    "# This will add a new column to your DataFrame\n",
    "df['topic'] = np.argmax(nmf_model.transform(tfidf), axis=1)\n",
    "df[['text', 'topic']].head()\n"
   ]
  },
  {
   "cell_type": "code",
   "execution_count": null,
   "id": "d24d6ce0",
   "metadata": {},
   "outputs": [],
   "source": []
  },
  {
   "cell_type": "code",
   "execution_count": null,
   "id": "384e1173",
   "metadata": {},
   "outputs": [],
   "source": []
  },
  {
   "cell_type": "code",
   "execution_count": null,
   "id": "1cd2deaa",
   "metadata": {},
   "outputs": [],
   "source": []
  },
  {
   "cell_type": "code",
   "execution_count": null,
   "id": "7ef6a3ed",
   "metadata": {},
   "outputs": [],
   "source": []
  }
 ],
 "metadata": {
  "kernelspec": {
   "display_name": "Python 3 (ipykernel)",
   "language": "python",
   "name": "python3"
  },
  "language_info": {
   "codemirror_mode": {
    "name": "ipython",
    "version": 3
   },
   "file_extension": ".py",
   "mimetype": "text/x-python",
   "name": "python",
   "nbconvert_exporter": "python",
   "pygments_lexer": "ipython3",
   "version": "3.11.5"
  }
 },
 "nbformat": 4,
 "nbformat_minor": 5
}
